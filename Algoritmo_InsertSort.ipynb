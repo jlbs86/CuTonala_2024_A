{
  "nbformat": 4,
  "nbformat_minor": 0,
  "metadata": {
    "colab": {
      "provenance": [],
      "include_colab_link": true
    },
    "kernelspec": {
      "name": "python3",
      "display_name": "Python 3"
    },
    "language_info": {
      "name": "python"
    }
  },
  "cells": [
    {
      "cell_type": "markdown",
      "metadata": {
        "id": "view-in-github",
        "colab_type": "text"
      },
      "source": [
        "<a href=\"https://colab.research.google.com/github/MarcoUMartinez/CuTonala_2024_A/blob/MarcoMartinez/Algoritmo_InsertSort.ipynb\" target=\"_parent\"><img src=\"https://colab.research.google.com/assets/colab-badge.svg\" alt=\"Open In Colab\"/></a>"
      ]
    },
    {
      "cell_type": "markdown",
      "source": [
        "## **Implementación del algoritmo Insert Sort con paralelismo en MPI4PY y NUMBA**"
      ],
      "metadata": {
        "id": "ioVZyQfEVLSB"
      }
    },
    {
      "cell_type": "markdown",
      "source": [
        "## **Codigo sin paralelizar**"
      ],
      "metadata": {
        "id": "TSsoKCRMj-F4"
      }
    },
    {
      "cell_type": "code",
      "source": [
        "#########    Algoritmo de Insert Sort   ###############\n",
        "##\n",
        "##\n",
        "##              Autor: Martinez Pérez Marco Uriel\n",
        "\n",
        "import time\n",
        "\n",
        "\"\"\"\n",
        "Docstring: Algoritmo InsertSort\n",
        "\n",
        "Returns:\n",
        "        list: Lista de valores ordenados\n",
        "\n",
        "\"\"\"\n",
        "\n",
        "inicio = time.time()  # Guarda el tiempo de inicio\n",
        "\n",
        "def insertion_sort(arr):\n",
        "    n = len(arr)\n",
        "    for i in range(1, n):\n",
        "        current_value = arr[i]  # Guarda el valor actual a insertar\n",
        "        position = i\n",
        "\n",
        "        # Mueve los elementos del subarreglo ordenado hacia la derecha\n",
        "        # para hacer espacio para el valor actual\n",
        "        while position > 0 and arr[position - 1] > current_value:\n",
        "            arr[position] = arr[position - 1]\n",
        "            position -= 1\n",
        "\n",
        "        # Inserta el valor actual en la posición correcta\n",
        "        arr[position] = current_value\n",
        "\n",
        "\n",
        "# Ejemplo de Arreglo\n",
        "arr = [5, 2, 4, 6, 1, 3, 8, 10, 32, 7, 1, 20, 9, 12]\n",
        "print(\"Lista original:\", arr)\n",
        "\n",
        "insertion_sort(arr)\n",
        "print(\"Lista ordenada:\", arr)\n",
        "\n",
        "fin = time.time()  # Guarda el tiempo de finalización\n",
        "tiempo_ejecucion = fin - inicio  # Calcula el tiempo de ejecución\n",
        "print(f\"Tiempo de ejecución: {tiempo_ejecucion:.8f} segundos\")\n"
      ],
      "metadata": {
        "colab": {
          "base_uri": "https://localhost:8080/"
        },
        "id": "WcPhR2uiVv_o",
        "outputId": "3ae2790f-65b6-401b-bb9d-22a226aca38d"
      },
      "execution_count": 21,
      "outputs": [
        {
          "output_type": "stream",
          "name": "stdout",
          "text": [
            "Lista original: [5, 2, 4, 6, 1, 3, 8, 10, 32, 7, 1, 20, 9, 12]\n",
            "Lista ordenada: [1, 1, 2, 3, 4, 5, 6, 7, 8, 9, 10, 12, 20, 32]\n",
            "Tiempo de ejecución: 0.00437117 segundos\n"
          ]
        }
      ]
    },
    {
      "cell_type": "markdown",
      "source": [
        "## **Codigo MPI4PY**"
      ],
      "metadata": {
        "id": "Llso7V6ZVDiK"
      }
    },
    {
      "cell_type": "code",
      "execution_count": 10,
      "metadata": {
        "colab": {
          "base_uri": "https://localhost:8080/"
        },
        "id": "Otci-ED_yk6_",
        "outputId": "dfe132a0-fb49-4609-841e-9c48fa359070"
      },
      "outputs": [
        {
          "output_type": "stream",
          "name": "stdout",
          "text": [
            "Collecting mpi4py\n",
            "  Downloading mpi4py-3.1.6.tar.gz (2.4 MB)\n",
            "\u001b[?25l     \u001b[90m━━━━━━━━━━━━━━━━━━━━━━━━━━━━━━━━━━━━━━━━\u001b[0m \u001b[32m0.0/2.4 MB\u001b[0m \u001b[31m?\u001b[0m eta \u001b[36m-:--:--\u001b[0m\r\u001b[2K     \u001b[91m━━━\u001b[0m\u001b[91m╸\u001b[0m\u001b[90m━━━━━━━━━━━━━━━━━━━━━━━━━━━━━━━━━━━━\u001b[0m \u001b[32m0.2/2.4 MB\u001b[0m \u001b[31m6.5 MB/s\u001b[0m eta \u001b[36m0:00:01\u001b[0m\r\u001b[2K     \u001b[91m━━━━━━━━━━━\u001b[0m\u001b[91m╸\u001b[0m\u001b[90m━━━━━━━━━━━━━━━━━━━━━━━━━━━━\u001b[0m \u001b[32m0.7/2.4 MB\u001b[0m \u001b[31m10.0 MB/s\u001b[0m eta \u001b[36m0:00:01\u001b[0m\r\u001b[2K     \u001b[91m━━━━━━━━━━━━━━━━━━━━━━\u001b[0m\u001b[90m╺\u001b[0m\u001b[90m━━━━━━━━━━━━━━━━━\u001b[0m \u001b[32m1.3/2.4 MB\u001b[0m \u001b[31m12.7 MB/s\u001b[0m eta \u001b[36m0:00:01\u001b[0m\r\u001b[2K     \u001b[91m━━━━━━━━━━━━━━━━━━━━━━━━━━━━━━━━━━━━━━\u001b[0m\u001b[91m╸\u001b[0m\u001b[90m━\u001b[0m \u001b[32m2.3/2.4 MB\u001b[0m \u001b[31m16.3 MB/s\u001b[0m eta \u001b[36m0:00:01\u001b[0m\r\u001b[2K     \u001b[90m━━━━━━━━━━━━━━━━━━━━━━━━━━━━━━━━━━━━━━━━\u001b[0m \u001b[32m2.4/2.4 MB\u001b[0m \u001b[31m13.9 MB/s\u001b[0m eta \u001b[36m0:00:00\u001b[0m\n",
            "\u001b[?25h  Installing build dependencies ... \u001b[?25l\u001b[?25hdone\n",
            "  Getting requirements to build wheel ... \u001b[?25l\u001b[?25hdone\n",
            "  Preparing metadata (pyproject.toml) ... \u001b[?25l\u001b[?25hdone\n",
            "Building wheels for collected packages: mpi4py\n",
            "  Building wheel for mpi4py (pyproject.toml) ... \u001b[?25l\u001b[?25hdone\n",
            "  Created wheel for mpi4py: filename=mpi4py-3.1.6-cp310-cp310-linux_x86_64.whl size=2746291 sha256=a215df32c53407e605f92fc10efed6f0bd6f2f6d3e4cf7c68b0a4e1996cea680\n",
            "  Stored in directory: /root/.cache/pip/wheels/4c/ca/89/8fc1fb1c620afca13bb41c630b1f948bbf446e0aaa4b762e10\n",
            "Successfully built mpi4py\n",
            "Installing collected packages: mpi4py\n",
            "Successfully installed mpi4py-3.1.6\n"
          ]
        }
      ],
      "source": [
        "!pip install mpi4py"
      ]
    },
    {
      "cell_type": "code",
      "source": [
        "#########    Algoritmo de Insert Sort implementando Mpi4py   ###############\n",
        "##\n",
        "##\n",
        "##              Autor: Martinez Pérez Marco Uriel\n",
        "\n",
        "from mpi4py import MPI\n",
        "\n",
        "# Registrar el tiempo de inicio\n",
        "inicio = MPI.Wtime()\n",
        "def insertion_sort(arr):\n",
        "    n = len(arr)\n",
        "    for i in range(1, n):\n",
        "        current_value = arr[i]  # Guarda el valor actual a insertar\n",
        "        position = i\n",
        "\n",
        "        # Mueve los elementos del subarreglo ordenado hacia la derecha\n",
        "        # para hacer espacio para el valor actual\n",
        "        while position > 0 and arr[position - 1] > current_value:\n",
        "            arr[position] = arr[position - 1]\n",
        "            position -= 1\n",
        "\n",
        "        # Inserta el valor actual en la posición correcta\n",
        "        arr[position] = current_value\n",
        "\n",
        "# Función para dividir el arreglo en partes iguales\n",
        "def split_array(arr, size):\n",
        "    n = len(arr)\n",
        "    part_size = n // size\n",
        "    remainder = n % size\n",
        "    send_counts = [part_size + 1 if i < remainder else part_size for i in range(size)]\n",
        "    displacements = [sum(send_counts[:i]) for i in range(size)]\n",
        "    return [arr[displacements[i]:displacements[i] + send_counts[i]] for i in range(size)]\n",
        "\n",
        "# Función para unir las partes ordenadas\n",
        "def merge_sorted_parts(sorted_parts):\n",
        "    return sorted(sum(sorted_parts, []))\n",
        "\n",
        "if __name__ == \"__main__\":\n",
        "    comm = MPI.COMM_WORLD\n",
        "    rank = comm.Get_rank()\n",
        "    size = comm.Get_size()\n",
        "\n",
        "    if rank == 0:\n",
        "        arr = [5, 2, 4, 6, 1, 3, 8, 10, 32, 7, 1, 20, 9, 12]\n",
        "    else:\n",
        "        arr = None\n",
        "\n",
        "    # Dividir el arreglo en partes iguales\n",
        "    arr_part = comm.scatter(split_array(arr, size), root=0)\n",
        "\n",
        "    # Ordenar la parte local\n",
        "    insertion_sort(arr_part)\n",
        "\n",
        "    # Recopilar partes ordenadas\n",
        "    sorted_parts = comm.gather(arr_part, root=0)\n",
        "\n",
        "    # Unir partes ordenadas\n",
        "    if rank == 0:\n",
        "        sorted_arr = merge_sorted_parts(sorted_parts)\n",
        "        print(\"Lista original:\", arr)\n",
        "        print(\"Lista ordenada:\", sorted_arr)\n",
        "        fin = MPI.Wtime()  # Registrar el tiempo de finalización\n",
        "        print(f\"Tiempo de ejecución: {fin - inicio:.8f} segundos\")"
      ],
      "metadata": {
        "colab": {
          "base_uri": "https://localhost:8080/"
        },
        "id": "Ve6Cf-snzMH1",
        "outputId": "3904e0d1-f743-4aea-b937-b5d6ecac9250"
      },
      "execution_count": 19,
      "outputs": [
        {
          "output_type": "stream",
          "name": "stdout",
          "text": [
            "Lista original: [5, 2, 4, 6, 1, 3, 8, 10, 32, 7, 1, 20, 9, 12]\n",
            "Lista ordenada: [1, 1, 2, 3, 4, 5, 6, 7, 8, 9, 10, 12, 20, 32]\n",
            "Tiempo de ejecución: 0.00456926 segundos\n"
          ]
        }
      ]
    },
    {
      "cell_type": "markdown",
      "source": [
        "## **Codigo NUMBA**"
      ],
      "metadata": {
        "id": "z4XTdws3Us2g"
      }
    },
    {
      "cell_type": "code",
      "source": [
        "!pip install numba"
      ],
      "metadata": {
        "colab": {
          "base_uri": "https://localhost:8080/"
        },
        "id": "BMKHYjNAUOyX",
        "outputId": "17bc9f35-2995-4ec7-a4bc-0ad3babb30ad"
      },
      "execution_count": 1,
      "outputs": [
        {
          "output_type": "stream",
          "name": "stdout",
          "text": [
            "Requirement already satisfied: numba in /usr/local/lib/python3.10/dist-packages (0.58.1)\n",
            "Requirement already satisfied: llvmlite<0.42,>=0.41.0dev0 in /usr/local/lib/python3.10/dist-packages (from numba) (0.41.1)\n",
            "Requirement already satisfied: numpy<1.27,>=1.22 in /usr/local/lib/python3.10/dist-packages (from numba) (1.25.2)\n"
          ]
        }
      ]
    },
    {
      "cell_type": "code",
      "source": [
        "#########    Algoritmo de Insert Sort implementando NUMBA   ###############\n",
        "##\n",
        "##\n",
        "##              Autor: Martinez Pérez Marco Uriel\n",
        "\n",
        "from numba import njit\n",
        "import numpy as np\n",
        "import time\n",
        "\n",
        "inicio = time.time()  # Registrar el tiempo de inicio\n",
        "@njit\n",
        "def insertion_sort(arr):\n",
        "    n = len(arr)\n",
        "    for i in range(1, n):\n",
        "        current_value = arr[i]\n",
        "        position = i\n",
        "\n",
        "        while position > 0 and arr[position - 1] > current_value:\n",
        "            arr[position] = arr[position - 1]\n",
        "            position -= 1\n",
        "\n",
        "        arr[position] = current_value\n",
        "\n",
        "# Función para dividir el arreglo en partes iguales\n",
        "def split_array(arr, size):\n",
        "    n = len(arr)\n",
        "    part_size = n // size\n",
        "    remainder = n % size\n",
        "    send_counts = [part_size + 1 if i < remainder else part_size for i in range(size)]\n",
        "    displacements = [sum(send_counts[:i]) for i in range(size)]\n",
        "    return [arr[displacements[i]:displacements[i] + send_counts[i]] for i in range(size)]\n",
        "\n",
        "# Función para fusionar dos partes ordenadas\n",
        "@njit\n",
        "def merge_two_sorted_arrays(arr1, arr2):\n",
        "    sorted_arr = np.empty(len(arr1) + len(arr2), dtype=arr1.dtype)\n",
        "    i = j = k = 0\n",
        "\n",
        "    while i < len(arr1) and j < len(arr2):\n",
        "        if arr1[i] < arr2[j]:\n",
        "            sorted_arr[k] = arr1[i]\n",
        "            i += 1\n",
        "        else:\n",
        "            sorted_arr[k] = arr2[j]\n",
        "            j += 1\n",
        "        k += 1\n",
        "\n",
        "    while i < len(arr1):\n",
        "        sorted_arr[k] = arr1[i]\n",
        "        i += 1\n",
        "        k += 1\n",
        "\n",
        "    while j < len(arr2):\n",
        "        sorted_arr[k] = arr2[j]\n",
        "        j += 1\n",
        "        k += 1\n",
        "\n",
        "    return sorted_arr\n",
        "\n",
        "# Función para unir las partes ordenadas\n",
        "def merge_sorted_parts(sorted_parts):\n",
        "    while len(sorted_parts) > 1:\n",
        "        new_sorted_parts = []\n",
        "        for i in range(0, len(sorted_parts), 2):\n",
        "            if i + 1 < len(sorted_parts):\n",
        "                merged_part = merge_two_sorted_arrays(sorted_parts[i], sorted_parts[i + 1])\n",
        "                new_sorted_parts.append(merged_part)\n",
        "            else:\n",
        "                new_sorted_parts.append(sorted_parts[i])\n",
        "        sorted_parts = new_sorted_parts\n",
        "    return sorted_parts[0]\n",
        "\n",
        "if __name__ == \"__main__\":\n",
        "    arr = np.array([5, 2, 4, 6, 1, 3, 8, 10, 32, 7, 1, 20, 9, 12], dtype=np.int32)\n",
        "    size = 4  # Número de partes en las que se dividirá el arreglo\n",
        "\n",
        "    # Dividir el arreglo en partes iguales\n",
        "    parts = split_array(arr, size)\n",
        "\n",
        "    # Ordenar cada parte localmente usando Numba\n",
        "    for part in parts:\n",
        "        insertion_sort(part)\n",
        "\n",
        "    # Unir partes ordenadas\n",
        "    sorted_arr = merge_sorted_parts(parts)\n",
        "\n",
        "    fin = time.time()  # Registrar el tiempo de finalización\n",
        "\n",
        "    print(\"Lista original:\", arr)\n",
        "    print(\"Lista ordenada:\", sorted_arr)\n",
        "    print(f\"Tiempo de ejecución: {fin - inicio:.8f} segundos\")"
      ],
      "metadata": {
        "colab": {
          "base_uri": "https://localhost:8080/"
        },
        "id": "wtDqV4lbUMv6",
        "outputId": "4295d93a-2c4b-4cc1-f7a0-880fe5041240"
      },
      "execution_count": 18,
      "outputs": [
        {
          "output_type": "stream",
          "name": "stdout",
          "text": [
            "Lista original: [ 2  4  5  6  1  3  8 10  1  7 32  9 12 20]\n",
            "Lista ordenada: [ 1  1  2  3  4  5  6  7  8  9 10 12 20 32]\n",
            "Tiempo de ejecución: 0.453080 segundos\n"
          ]
        }
      ]
    }
  ]
}